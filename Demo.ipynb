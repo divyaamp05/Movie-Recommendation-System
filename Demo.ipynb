{
 "cells": [
  {
   "cell_type": "code",
   "execution_count": 98,
   "id": "d2079317",
   "metadata": {},
   "outputs": [],
   "source": [
    "import numpy as np\n",
    "import pandas as pd\n",
    "import matplotlib.pyplot as plt\n",
    "import seaborn as sns\n",
    "%matplotlib inline\n",
    "from sklearn.metrics.pairwise import cosine_similarity"
   ]
  },
  {
   "cell_type": "code",
   "execution_count": 99,
   "id": "2151dfd3",
   "metadata": {},
   "outputs": [],
   "source": [
    "df=pd.read_excel(\"Ratings.xlsx\",index_col=0)"
   ]
  },
  {
   "cell_type": "code",
   "execution_count": 100,
   "id": "67aa773c",
   "metadata": {},
   "outputs": [
    {
     "data": {
      "text/html": [
       "<div>\n",
       "<style scoped>\n",
       "    .dataframe tbody tr th:only-of-type {\n",
       "        vertical-align: middle;\n",
       "    }\n",
       "\n",
       "    .dataframe tbody tr th {\n",
       "        vertical-align: top;\n",
       "    }\n",
       "\n",
       "    .dataframe thead th {\n",
       "        text-align: right;\n",
       "    }\n",
       "</style>\n",
       "<table border=\"1\" class=\"dataframe\">\n",
       "  <thead>\n",
       "    <tr style=\"text-align: right;\">\n",
       "      <th></th>\n",
       "      <th>Action1</th>\n",
       "      <th>Action2</th>\n",
       "      <th>Action3</th>\n",
       "      <th>Thriller1</th>\n",
       "      <th>Thriller2</th>\n",
       "      <th>Thriller3</th>\n",
       "    </tr>\n",
       "  </thead>\n",
       "  <tbody>\n",
       "    <tr>\n",
       "      <th>User1</th>\n",
       "      <td>4.0</td>\n",
       "      <td>5.0</td>\n",
       "      <td>3.0</td>\n",
       "      <td>NaN</td>\n",
       "      <td>2</td>\n",
       "      <td>1.0</td>\n",
       "    </tr>\n",
       "    <tr>\n",
       "      <th>User2</th>\n",
       "      <td>5.0</td>\n",
       "      <td>3.0</td>\n",
       "      <td>3.0</td>\n",
       "      <td>2.0</td>\n",
       "      <td>2</td>\n",
       "      <td>NaN</td>\n",
       "    </tr>\n",
       "    <tr>\n",
       "      <th>User3</th>\n",
       "      <td>1.0</td>\n",
       "      <td>NaN</td>\n",
       "      <td>NaN</td>\n",
       "      <td>4.0</td>\n",
       "      <td>5</td>\n",
       "      <td>4.0</td>\n",
       "    </tr>\n",
       "    <tr>\n",
       "      <th>User4</th>\n",
       "      <td>NaN</td>\n",
       "      <td>2.0</td>\n",
       "      <td>1.0</td>\n",
       "      <td>4.0</td>\n",
       "      <td>3</td>\n",
       "      <td>NaN</td>\n",
       "    </tr>\n",
       "    <tr>\n",
       "      <th>User5</th>\n",
       "      <td>1.0</td>\n",
       "      <td>NaN</td>\n",
       "      <td>2.0</td>\n",
       "      <td>3.0</td>\n",
       "      <td>3</td>\n",
       "      <td>4.0</td>\n",
       "    </tr>\n",
       "  </tbody>\n",
       "</table>\n",
       "</div>"
      ],
      "text/plain": [
       "       Action1  Action2  Action3  Thriller1  Thriller2  Thriller3\n",
       "User1      4.0      5.0      3.0        NaN          2        1.0\n",
       "User2      5.0      3.0      3.0        2.0          2        NaN\n",
       "User3      1.0      NaN      NaN        4.0          5        4.0\n",
       "User4      NaN      2.0      1.0        4.0          3        NaN\n",
       "User5      1.0      NaN      2.0        3.0          3        4.0"
      ]
     },
     "execution_count": 100,
     "metadata": {},
     "output_type": "execute_result"
    }
   ],
   "source": [
    "df.head()"
   ]
  },
  {
   "cell_type": "code",
   "execution_count": 101,
   "id": "524b90a3",
   "metadata": {},
   "outputs": [],
   "source": [
    "df=df.fillna(0)"
   ]
  },
  {
   "cell_type": "code",
   "execution_count": 102,
   "id": "67bf6def",
   "metadata": {},
   "outputs": [
    {
     "data": {
      "text/html": [
       "<div>\n",
       "<style scoped>\n",
       "    .dataframe tbody tr th:only-of-type {\n",
       "        vertical-align: middle;\n",
       "    }\n",
       "\n",
       "    .dataframe tbody tr th {\n",
       "        vertical-align: top;\n",
       "    }\n",
       "\n",
       "    .dataframe thead th {\n",
       "        text-align: right;\n",
       "    }\n",
       "</style>\n",
       "<table border=\"1\" class=\"dataframe\">\n",
       "  <thead>\n",
       "    <tr style=\"text-align: right;\">\n",
       "      <th></th>\n",
       "      <th>Action1</th>\n",
       "      <th>Action2</th>\n",
       "      <th>Action3</th>\n",
       "      <th>Thriller1</th>\n",
       "      <th>Thriller2</th>\n",
       "      <th>Thriller3</th>\n",
       "    </tr>\n",
       "  </thead>\n",
       "  <tbody>\n",
       "    <tr>\n",
       "      <th>User1</th>\n",
       "      <td>4.0</td>\n",
       "      <td>5.0</td>\n",
       "      <td>3.0</td>\n",
       "      <td>0.0</td>\n",
       "      <td>2</td>\n",
       "      <td>1.0</td>\n",
       "    </tr>\n",
       "    <tr>\n",
       "      <th>User2</th>\n",
       "      <td>5.0</td>\n",
       "      <td>3.0</td>\n",
       "      <td>3.0</td>\n",
       "      <td>2.0</td>\n",
       "      <td>2</td>\n",
       "      <td>0.0</td>\n",
       "    </tr>\n",
       "    <tr>\n",
       "      <th>User3</th>\n",
       "      <td>1.0</td>\n",
       "      <td>0.0</td>\n",
       "      <td>0.0</td>\n",
       "      <td>4.0</td>\n",
       "      <td>5</td>\n",
       "      <td>4.0</td>\n",
       "    </tr>\n",
       "    <tr>\n",
       "      <th>User4</th>\n",
       "      <td>0.0</td>\n",
       "      <td>2.0</td>\n",
       "      <td>1.0</td>\n",
       "      <td>4.0</td>\n",
       "      <td>3</td>\n",
       "      <td>0.0</td>\n",
       "    </tr>\n",
       "    <tr>\n",
       "      <th>User5</th>\n",
       "      <td>1.0</td>\n",
       "      <td>0.0</td>\n",
       "      <td>2.0</td>\n",
       "      <td>3.0</td>\n",
       "      <td>3</td>\n",
       "      <td>4.0</td>\n",
       "    </tr>\n",
       "  </tbody>\n",
       "</table>\n",
       "</div>"
      ],
      "text/plain": [
       "       Action1  Action2  Action3  Thriller1  Thriller2  Thriller3\n",
       "User1      4.0      5.0      3.0        0.0          2        1.0\n",
       "User2      5.0      3.0      3.0        2.0          2        0.0\n",
       "User3      1.0      0.0      0.0        4.0          5        4.0\n",
       "User4      0.0      2.0      1.0        4.0          3        0.0\n",
       "User5      1.0      0.0      2.0        3.0          3        4.0"
      ]
     },
     "execution_count": 102,
     "metadata": {},
     "output_type": "execute_result"
    }
   ],
   "source": [
    "df.head()"
   ]
  },
  {
   "cell_type": "code",
   "execution_count": 103,
   "id": "a2741b6c",
   "metadata": {},
   "outputs": [],
   "source": [
    "def standardize(row):\n",
    "    new_row=(row-row.mean())/(row.max()-row.min())\n",
    "    return new_row"
   ]
  },
  {
   "cell_type": "code",
   "execution_count": 104,
   "id": "a6c0acba",
   "metadata": {},
   "outputs": [],
   "source": [
    "df1=df.apply(standardize)"
   ]
  },
  {
   "cell_type": "code",
   "execution_count": 105,
   "id": "6ea3d4ae",
   "metadata": {},
   "outputs": [
    {
     "data": {
      "text/html": [
       "<div>\n",
       "<style scoped>\n",
       "    .dataframe tbody tr th:only-of-type {\n",
       "        vertical-align: middle;\n",
       "    }\n",
       "\n",
       "    .dataframe tbody tr th {\n",
       "        vertical-align: top;\n",
       "    }\n",
       "\n",
       "    .dataframe thead th {\n",
       "        text-align: right;\n",
       "    }\n",
       "</style>\n",
       "<table border=\"1\" class=\"dataframe\">\n",
       "  <thead>\n",
       "    <tr style=\"text-align: right;\">\n",
       "      <th></th>\n",
       "      <th>Action1</th>\n",
       "      <th>Action2</th>\n",
       "      <th>Action3</th>\n",
       "      <th>Thriller1</th>\n",
       "      <th>Thriller2</th>\n",
       "      <th>Thriller3</th>\n",
       "    </tr>\n",
       "  </thead>\n",
       "  <tbody>\n",
       "    <tr>\n",
       "      <th>User1</th>\n",
       "      <td>0.36</td>\n",
       "      <td>0.6</td>\n",
       "      <td>0.400000</td>\n",
       "      <td>-0.65</td>\n",
       "      <td>-0.333333</td>\n",
       "      <td>-0.20</td>\n",
       "    </tr>\n",
       "    <tr>\n",
       "      <th>User2</th>\n",
       "      <td>0.56</td>\n",
       "      <td>0.2</td>\n",
       "      <td>0.400000</td>\n",
       "      <td>-0.15</td>\n",
       "      <td>-0.333333</td>\n",
       "      <td>-0.45</td>\n",
       "    </tr>\n",
       "    <tr>\n",
       "      <th>User3</th>\n",
       "      <td>-0.24</td>\n",
       "      <td>-0.4</td>\n",
       "      <td>-0.600000</td>\n",
       "      <td>0.35</td>\n",
       "      <td>0.666667</td>\n",
       "      <td>0.55</td>\n",
       "    </tr>\n",
       "    <tr>\n",
       "      <th>User4</th>\n",
       "      <td>-0.44</td>\n",
       "      <td>0.0</td>\n",
       "      <td>-0.266667</td>\n",
       "      <td>0.35</td>\n",
       "      <td>0.000000</td>\n",
       "      <td>-0.45</td>\n",
       "    </tr>\n",
       "    <tr>\n",
       "      <th>User5</th>\n",
       "      <td>-0.24</td>\n",
       "      <td>-0.4</td>\n",
       "      <td>0.066667</td>\n",
       "      <td>0.10</td>\n",
       "      <td>0.000000</td>\n",
       "      <td>0.55</td>\n",
       "    </tr>\n",
       "  </tbody>\n",
       "</table>\n",
       "</div>"
      ],
      "text/plain": [
       "       Action1  Action2   Action3  Thriller1  Thriller2  Thriller3\n",
       "User1     0.36      0.6  0.400000      -0.65  -0.333333      -0.20\n",
       "User2     0.56      0.2  0.400000      -0.15  -0.333333      -0.45\n",
       "User3    -0.24     -0.4 -0.600000       0.35   0.666667       0.55\n",
       "User4    -0.44      0.0 -0.266667       0.35   0.000000      -0.45\n",
       "User5    -0.24     -0.4  0.066667       0.10   0.000000       0.55"
      ]
     },
     "execution_count": 105,
     "metadata": {},
     "output_type": "execute_result"
    }
   ],
   "source": [
    "df1.head()"
   ]
  },
  {
   "cell_type": "code",
   "execution_count": 106,
   "id": "b2a5dbc6",
   "metadata": {},
   "outputs": [],
   "source": [
    "item_similarity=cosine_similarity(df1.T)"
   ]
  },
  {
   "cell_type": "code",
   "execution_count": 107,
   "id": "148b8116",
   "metadata": {},
   "outputs": [
    {
     "data": {
      "text/plain": [
       "array([[ 1.        ,  0.70668875,  0.81368151, -0.79941088, -0.65908813,\n",
       "        -0.43889541],\n",
       "       [ 0.70668875,  1.        ,  0.72310153, -0.84515425, -0.76980036,\n",
       "        -0.74757102],\n",
       "       [ 0.81368151,  0.72310153,  1.        , -0.84794611, -0.93933644,\n",
       "        -0.48651277],\n",
       "       [-0.79941088, -0.84515425, -0.84794611,  1.        ,  0.73192505,\n",
       "         0.33534681],\n",
       "       [-0.65908813, -0.76980036, -0.93933644,  0.73192505,  1.        ,\n",
       "         0.69721669],\n",
       "       [-0.43889541, -0.74757102, -0.48651277,  0.33534681,  0.69721669,\n",
       "         1.        ]])"
      ]
     },
     "execution_count": 107,
     "metadata": {},
     "output_type": "execute_result"
    }
   ],
   "source": [
    "item_similarity"
   ]
  },
  {
   "cell_type": "code",
   "execution_count": 108,
   "id": "be59a2eb",
   "metadata": {},
   "outputs": [],
   "source": [
    "item_similarity=pd.DataFrame(item_similarity,columns=df1.columns,index=df1.columns)"
   ]
  },
  {
   "cell_type": "code",
   "execution_count": 109,
   "id": "4eaddff4",
   "metadata": {},
   "outputs": [
    {
     "data": {
      "text/html": [
       "<div>\n",
       "<style scoped>\n",
       "    .dataframe tbody tr th:only-of-type {\n",
       "        vertical-align: middle;\n",
       "    }\n",
       "\n",
       "    .dataframe tbody tr th {\n",
       "        vertical-align: top;\n",
       "    }\n",
       "\n",
       "    .dataframe thead th {\n",
       "        text-align: right;\n",
       "    }\n",
       "</style>\n",
       "<table border=\"1\" class=\"dataframe\">\n",
       "  <thead>\n",
       "    <tr style=\"text-align: right;\">\n",
       "      <th></th>\n",
       "      <th>Action1</th>\n",
       "      <th>Action2</th>\n",
       "      <th>Action3</th>\n",
       "      <th>Thriller1</th>\n",
       "      <th>Thriller2</th>\n",
       "      <th>Thriller3</th>\n",
       "    </tr>\n",
       "  </thead>\n",
       "  <tbody>\n",
       "    <tr>\n",
       "      <th>Action1</th>\n",
       "      <td>1.000000</td>\n",
       "      <td>0.706689</td>\n",
       "      <td>0.813682</td>\n",
       "      <td>-0.799411</td>\n",
       "      <td>-0.659088</td>\n",
       "      <td>-0.438895</td>\n",
       "    </tr>\n",
       "    <tr>\n",
       "      <th>Action2</th>\n",
       "      <td>0.706689</td>\n",
       "      <td>1.000000</td>\n",
       "      <td>0.723102</td>\n",
       "      <td>-0.845154</td>\n",
       "      <td>-0.769800</td>\n",
       "      <td>-0.747571</td>\n",
       "    </tr>\n",
       "    <tr>\n",
       "      <th>Action3</th>\n",
       "      <td>0.813682</td>\n",
       "      <td>0.723102</td>\n",
       "      <td>1.000000</td>\n",
       "      <td>-0.847946</td>\n",
       "      <td>-0.939336</td>\n",
       "      <td>-0.486513</td>\n",
       "    </tr>\n",
       "    <tr>\n",
       "      <th>Thriller1</th>\n",
       "      <td>-0.799411</td>\n",
       "      <td>-0.845154</td>\n",
       "      <td>-0.847946</td>\n",
       "      <td>1.000000</td>\n",
       "      <td>0.731925</td>\n",
       "      <td>0.335347</td>\n",
       "    </tr>\n",
       "    <tr>\n",
       "      <th>Thriller2</th>\n",
       "      <td>-0.659088</td>\n",
       "      <td>-0.769800</td>\n",
       "      <td>-0.939336</td>\n",
       "      <td>0.731925</td>\n",
       "      <td>1.000000</td>\n",
       "      <td>0.697217</td>\n",
       "    </tr>\n",
       "    <tr>\n",
       "      <th>Thriller3</th>\n",
       "      <td>-0.438895</td>\n",
       "      <td>-0.747571</td>\n",
       "      <td>-0.486513</td>\n",
       "      <td>0.335347</td>\n",
       "      <td>0.697217</td>\n",
       "      <td>1.000000</td>\n",
       "    </tr>\n",
       "  </tbody>\n",
       "</table>\n",
       "</div>"
      ],
      "text/plain": [
       "            Action1   Action2   Action3  Thriller1  Thriller2  Thriller3\n",
       "Action1    1.000000  0.706689  0.813682  -0.799411  -0.659088  -0.438895\n",
       "Action2    0.706689  1.000000  0.723102  -0.845154  -0.769800  -0.747571\n",
       "Action3    0.813682  0.723102  1.000000  -0.847946  -0.939336  -0.486513\n",
       "Thriller1 -0.799411 -0.845154 -0.847946   1.000000   0.731925   0.335347\n",
       "Thriller2 -0.659088 -0.769800 -0.939336   0.731925   1.000000   0.697217\n",
       "Thriller3 -0.438895 -0.747571 -0.486513   0.335347   0.697217   1.000000"
      ]
     },
     "execution_count": 109,
     "metadata": {},
     "output_type": "execute_result"
    }
   ],
   "source": [
    "item_similarity"
   ]
  },
  {
   "cell_type": "code",
   "execution_count": 118,
   "id": "428936d5",
   "metadata": {},
   "outputs": [],
   "source": [
    "# Movie recommendations\n",
    "def recommendations(movie_name, ratings):\n",
    "    similar_score = item_similarity[movie_name] * (ratings - 2.5)\n",
    "    similar_score = similar_score.sort_values(ascending=False)\n",
    "    return similar_score.reset_index().rename(columns={movie_name: 'Score', 'index': 'Movie'})\n"
   ]
  },
  {
   "cell_type": "code",
   "execution_count": 119,
   "id": "8acf5e4f",
   "metadata": {},
   "outputs": [
    {
     "name": "stdout",
     "output_type": "stream",
     "text": [
      "       Movie     Score\n",
      "0  Thriller3  2.500000\n",
      "1  Thriller2  1.743042\n",
      "2  Thriller1  0.838367\n",
      "3    Action1 -1.097239\n",
      "4    Action3 -1.216282\n",
      "5    Action2 -1.868928\n"
     ]
    }
   ],
   "source": [
    "# Single Movie usage\n",
    "print(recommendations(\"Thriller3\", 5))"
   ]
  },
  {
   "cell_type": "code",
   "execution_count": 129,
   "id": "6296b5f0",
   "metadata": {},
   "outputs": [],
   "source": [
    "## Multi Movie usage\n",
    "action_lover = [(\"Action2\", 5), (\"Thriller2\", 1), (\"Thriller3\", 1)]\n",
    "similar_movies_list = []"
   ]
  },
  {
   "cell_type": "code",
   "execution_count": 130,
   "id": "dca4b3f3",
   "metadata": {},
   "outputs": [],
   "source": [
    "for movie, rating in action_lover:\n",
    "    recommended_movies = recommendations(movie, rating)\n",
    "    similar_movies_list.append(recommended_movies)\n",
    "\n"
   ]
  },
  {
   "cell_type": "code",
   "execution_count": 131,
   "id": "d8e6cc32",
   "metadata": {},
   "outputs": [
    {
     "name": "stdout",
     "output_type": "stream",
     "text": [
      "       Movie     Score\n",
      "0    Action2  2.500000\n",
      "1    Action3  1.807754\n",
      "2    Action1  1.766722\n",
      "3  Thriller3 -1.868928\n",
      "4  Thriller2 -1.924501\n"
     ]
    }
   ],
   "source": [
    "similar_movies = pd.concat(similar_movies_list, ignore_index=True)\n",
    "\n",
    "print(similar_movies.head())\n",
    "\n"
   ]
  },
  {
   "cell_type": "code",
   "execution_count": 132,
   "id": "66dba09c",
   "metadata": {},
   "outputs": [
    {
     "name": "stdout",
     "output_type": "stream",
     "text": [
      "Movie\n",
      "Action2      4.776057\n",
      "Action3      3.946528\n",
      "Action1      3.413697\n",
      "Thriller1   -3.713793\n",
      "Thriller3   -4.414753\n",
      "Thriller2   -4.470326\n",
      "Name: Score, dtype: float64\n"
     ]
    }
   ],
   "source": [
    "# Summing the scores and sorting\n",
    "numeric_sums = similar_movies.groupby('Movie')['Score'].sum().sort_values(ascending=False)\n",
    "print(numeric_sums)"
   ]
  },
  {
   "cell_type": "code",
   "execution_count": null,
   "id": "2e2ac8d1",
   "metadata": {},
   "outputs": [],
   "source": []
  },
  {
   "cell_type": "code",
   "execution_count": null,
   "id": "80c9225c",
   "metadata": {},
   "outputs": [],
   "source": []
  }
 ],
 "metadata": {
  "kernelspec": {
   "display_name": "Python 3 (ipykernel)",
   "language": "python",
   "name": "python3"
  },
  "language_info": {
   "codemirror_mode": {
    "name": "ipython",
    "version": 3
   },
   "file_extension": ".py",
   "mimetype": "text/x-python",
   "name": "python",
   "nbconvert_exporter": "python",
   "pygments_lexer": "ipython3",
   "version": "3.11.5"
  }
 },
 "nbformat": 4,
 "nbformat_minor": 5
}
